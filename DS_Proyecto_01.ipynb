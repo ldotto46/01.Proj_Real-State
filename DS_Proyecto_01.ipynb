{
 "cells": [
  {
   "cell_type": "markdown",
   "metadata": {
    "id": "38tA-ErIC4OD"
   },
   "source": [
    "# Proyecto: Análisis de mercado inmobiliario\n",
    "\n",
    "¡Bienvenido/a al primer proyecto de la carrera de Data Science de Acamica! \n",
    "\n",
    "El objetivo de este proyecto es reproducir los pasos que haría un/a Data Scientist cuando se enfrenta a una problemática real. Por eso, consta de tres secciones:\n",
    "* En la Parte 1, te presentamos la problemática sobre la cual vas a trabajar. En esta sección deberás decidir qué datos te ayudarán a trabajar en este problema y dónde puedes conseguirlos.\n",
    "* En la Parte 2 te proveemos de un dataset para abordar la problemática planteada. Deberás realizar un Análisis Exploratorio de Datos sobre este dataset.\n",
    "* En la Parte 3, deberás utilizar herramientas de Machine Learning para predecir la variable de interés.\n",
    "\n",
    "\n",
    "En este proyecto vas a trabajar con un dataset de propiedades en venta publicado en el portal [Properati](www.properati.com.ar).\n",
    "\n",
    "**Importante:** recuerda que un notebook es un informe, por lo que debes ir explicando lo que haces a medida que resuelves las consignas. Es importante que quien que lo lea entienda el flujo de trabajo, qué quisiste hacer. Recuerda, simple y conciso es una combinación ganadora. \n",
    "\n",
    "## Problema\n",
    "\n",
    "Recientemente te has incorporado al equipo de Datos de una gran inmobiliaria. La primera tarea que se te asigna es ayudar a los tasadores/as a valuar las propiedades, ya que es un proceso difícil y, a veces, subjetivo. Para ello, propones crear un modelo de Machine Learning que, dadas ciertas características de la propiedad, prediga su precio de venta.\n",
    "\n",
    "### 1. Pensando como un/a Data Scientist\n",
    "\n",
    "Responde la siguientes pregunta:\n",
    "1. ¿Qué datos crees que te ayudarían a trabajar en el problema?¿Por qué?\n",
    "\n",
    "**Importante**: NO deberás buscar esos datos, solamente justificar qué información crees que te ayudaría a resolver la problemática planteada."
   ]
  },
  {
   "cell_type": "markdown",
   "metadata": {
    "id": "oj6gbm-5C4OF"
   },
   "source": [
    "**INTRO (DATA SCIENTIST)**\n",
    "\n",
    "Si bien el ejercicio propuesto hace foco en una problematica particular(1) en la que se ira trabajando a lo largo de este notebook, es necesario comentar que hay otros analisis que pueden ayudar a los tasadores y a la empresa en sí. Es menester no solo saber las problematicas del equipo al cual me incorpore recientemente, sino tambien saber las necesidades de los clientes y de la empresa Porperti.\n",
    "\n",
    "Se identifican 3 universos a estudiar:\n",
    "\n",
    " 1 - Datos de la empresa en la que se trabaja (Properti) (proyecto propuesto)\n",
    " 2 - Datos de la competencia (zonajobs, argenprop, mercadolibre, etc) (Benchmarking web scraping)\n",
    " 3 - Datos de potenciales compradores. (Bayes)\n",
    "\n",
    "\n",
    "**RESPUESTA (DATA SCIENTIST)**\n",
    "\n",
    "Si bien creo que hay ciertos datos que estan ligados a la cotizacion de un inmueble, antes de empezar a trabajar con datos tendria una reunion/es con los profesionales, en este caso tasadores, para ver que atributos ellos consideran que son mas relevantes a la hora de tasar una propiedad. Quizas uno mencione algunos atributos que otro se olvide. Tambien veria si el equipo del que formo parte ha avanzado con algun modelo en particular para resolver esta necesidad.\n",
    "\n",
    "¿Qué datos crees que te ayudarían a trabajar en el problema? Haria una lista ordenada sobre los atributos mencionados,ej:\n",
    "\n",
    "- Pais\n",
    "- Provincia\n",
    "- Barrio\n",
    "- Espacio de la propiedad (cuartos, jardin, baños, garage, etc)\n",
    "- Impuestos\n",
    "- Servicios asociados\n",
    "- Proximidad a ciertos lugares (teatros, restaurantes, almacenes, ciudad, etc)\n",
    "- Nivel promedio de ruido\n",
    "- Niveles de aire/luz/contaminacion\n",
    "\n",
    "¿Por qué? El analisis subjetivo del tasador puede estar sesgado, por lo que buscaria patrones sobre datos objetivos para respaldar el analisis. Ademas, tambien se puede mencionar algunas caracteristicas propias del inmueble que pueden ayudar para concretar la venta. \n",
    "\n"
   ]
  },
  {
   "cell_type": "markdown",
   "metadata": {
    "id": "wfyEgpsONzTm"
   },
   "source": [
    "---\n",
    "\n",
    "<br />\n",
    "<br />\n",
    "\n",
    "# RESPONDER SECCIÓN 1 ANTES DE CONTINUAR\n",
    "<br />\n",
    "<br />\n",
    "\n",
    "---"
   ]
  },
  {
   "cell_type": "markdown",
   "metadata": {
    "id": "LvPBQzg5C4OI"
   },
   "source": [
    "### 2. Análisis Exploratorio de Datos\n",
    "\n",
    "En esta sección, debes realizar un Análisis Exploratorio de Datos sobre el dataset de propiedades de Properati. Es importante que respondas las siguientes preguntas durante el análisis:\n",
    "\n",
    "* ¿Qué tamaño tiene el dataset?¿Cuántas instancias y cuántas columnas?\n",
    "* ¿Cuántos valores faltantes hay en cada columna?\n",
    "* ¿Cómo es la distribución de cada variable? Deberás hacer histogramas para las variables numéricas y gráficos de barras para las variables categóricas.\n",
    "* ¿Cómo se relacionan las variables entre sí?¿Qué tipo de gráfico será conveniente para presentar esta información?\n",
    "* ¿Cómo están correlacionadas las variables numéricas?¿Qué tipo de gráfico será conveniente para presentar esta información?¿Cuáles serán los mejores predictores de la variable de interés?\n",
    "\n",
    "Vas a encontrar instrucciones para responder estas preguntas. Es importante aclarar que estas instrucciones corresponden al **mínimo entregable** que esperamos en la consigna.\n",
    "\n",
    "**Comentarios sobre el dataset** \n",
    "1. Nosotros ya hicimos un *curado* sobre el dataset que puedes descargar directamente de la página de Properati. Muchos de los pasos que hicimos para curar el conjunto de datos los veremos durante el Bloque 2 de la carrera.\n",
    "\n",
    "2. Si tienes dudas sobre qué representa alguna de las columnas, puedes consultar [aquí](https://www.properati.com.ar/data/). Notarás que algunas columnas fueron descartadas.\n",
    "\n",
    "3. `Capital Federal` refiere a la Ciudad de Buenos Aires. `Bs.As. G.B.A. Zona Norte`, `Bs.As. G.B.A. Zona Sur` y `Bs.As. G.B.A. Zona Oeste` son regiones que conforman el [Gran Buenos Aires](https://es.wikipedia.org/wiki/Gran_Buenos_Aires), un conjunto de ciudades que rodean a la Ciudad de Buenos Aires.\n",
    "\n"
   ]
  },
  {
   "cell_type": "markdown",
   "metadata": {
    "id": "K2PLfIvLC4OK"
   },
   "source": [
    "0. Importa las librerías necesarias para trabajar en la consigna."
   ]
  },
  {
   "cell_type": "code",
   "execution_count": 2,
   "metadata": {
    "id": "fCGVacN5C4OM"
   },
   "outputs": [],
   "source": [
    "import numpy as np\n",
    "import matplotlib.pyplot as plt\n",
    "import pandas as pd\n",
    "import seaborn as sns\n",
    "sns.set()"
   ]
  },
  {
   "cell_type": "markdown",
   "metadata": {
    "id": "5gWE6fwUC4OY"
   },
   "source": [
    "1. Carga el dataset usando las funcionalidades de Pandas. Imprimir cuántas filas y columnas tiene, y sus cinco primeras instancias."
   ]
  },
  {
   "cell_type": "code",
   "execution_count": 10,
   "metadata": {
    "id": "YL2eAd_tC4Oa"
   },
   "outputs": [
    {
     "data": {
      "text/html": [
       "<div>\n",
       "<style scoped>\n",
       "    .dataframe tbody tr th:only-of-type {\n",
       "        vertical-align: middle;\n",
       "    }\n",
       "\n",
       "    .dataframe tbody tr th {\n",
       "        vertical-align: top;\n",
       "    }\n",
       "\n",
       "    .dataframe thead th {\n",
       "        text-align: right;\n",
       "    }\n",
       "</style>\n",
       "<table border=\"1\" class=\"dataframe\">\n",
       "  <thead>\n",
       "    <tr style=\"text-align: right;\">\n",
       "      <th></th>\n",
       "      <th>start_date</th>\n",
       "      <th>end_date</th>\n",
       "      <th>Count</th>\n",
       "      <th>created_on</th>\n",
       "      <th>lat</th>\n",
       "      <th>lon</th>\n",
       "      <th>l1</th>\n",
       "      <th>l2</th>\n",
       "      <th>l3</th>\n",
       "      <th>rooms</th>\n",
       "      <th>bedrooms</th>\n",
       "      <th>bathrooms</th>\n",
       "      <th>surface_total</th>\n",
       "      <th>surface_covered</th>\n",
       "      <th>price</th>\n",
       "      <th>currency</th>\n",
       "      <th>title</th>\n",
       "      <th>description</th>\n",
       "      <th>property_type</th>\n",
       "      <th>operation_type</th>\n",
       "    </tr>\n",
       "  </thead>\n",
       "  <tbody>\n",
       "    <tr>\n",
       "      <th>0</th>\n",
       "      <td>2019-10-17</td>\n",
       "      <td>2019-12-23</td>\n",
       "      <td>1</td>\n",
       "      <td>2019-10-17</td>\n",
       "      <td>-34.605880</td>\n",
       "      <td>-58.384949</td>\n",
       "      <td>Argentina</td>\n",
       "      <td>Capital Federal</td>\n",
       "      <td>San Cristobal</td>\n",
       "      <td>7.0</td>\n",
       "      <td>7.0</td>\n",
       "      <td>2.0</td>\n",
       "      <td>140.0</td>\n",
       "      <td>140.0</td>\n",
       "      <td>153000.0</td>\n",
       "      <td>USD</td>\n",
       "      <td>***Venta semipiso centro, ideal hostel*****</td>\n",
       "      <td>DESCRIPCION DE LA PROPIEDAD: Departamento de 1...</td>\n",
       "      <td>Departamento</td>\n",
       "      <td>Venta</td>\n",
       "    </tr>\n",
       "    <tr>\n",
       "      <th>1</th>\n",
       "      <td>2019-10-17</td>\n",
       "      <td>2019-11-21</td>\n",
       "      <td>1</td>\n",
       "      <td>2019-10-17</td>\n",
       "      <td>-34.624056</td>\n",
       "      <td>-58.412110</td>\n",
       "      <td>Argentina</td>\n",
       "      <td>Capital Federal</td>\n",
       "      <td>Boedo</td>\n",
       "      <td>2.0</td>\n",
       "      <td>1.0</td>\n",
       "      <td>2.0</td>\n",
       "      <td>70.0</td>\n",
       "      <td>58.0</td>\n",
       "      <td>159000.0</td>\n",
       "      <td>USD</td>\n",
       "      <td>Espectacular PH reciclado en Boedo sin expensas.</td>\n",
       "      <td>PH reciclado en Boedo a una cuadra de la plaz...</td>\n",
       "      <td>PH</td>\n",
       "      <td>Venta</td>\n",
       "    </tr>\n",
       "    <tr>\n",
       "      <th>2</th>\n",
       "      <td>2019-10-17</td>\n",
       "      <td>2019-11-01</td>\n",
       "      <td>1</td>\n",
       "      <td>2019-10-17</td>\n",
       "      <td>-34.593569</td>\n",
       "      <td>-58.427474</td>\n",
       "      <td>Argentina</td>\n",
       "      <td>Capital Federal</td>\n",
       "      <td>Palermo</td>\n",
       "      <td>2.0</td>\n",
       "      <td>1.0</td>\n",
       "      <td>1.0</td>\n",
       "      <td>45.0</td>\n",
       "      <td>45.0</td>\n",
       "      <td>125000.0</td>\n",
       "      <td>USD</td>\n",
       "      <td>Depto.tipo casa de 2 ambientes en Venta en Pal...</td>\n",
       "      <td>2 ambienets amplio , excelente estado , patio ...</td>\n",
       "      <td>PH</td>\n",
       "      <td>Venta</td>\n",
       "    </tr>\n",
       "    <tr>\n",
       "      <th>3</th>\n",
       "      <td>2019-10-17</td>\n",
       "      <td>2019-12-23</td>\n",
       "      <td>1</td>\n",
       "      <td>2019-10-17</td>\n",
       "      <td>-34.581294</td>\n",
       "      <td>-58.436754</td>\n",
       "      <td>Argentina</td>\n",
       "      <td>Capital Federal</td>\n",
       "      <td>Palermo</td>\n",
       "      <td>2.0</td>\n",
       "      <td>1.0</td>\n",
       "      <td>1.0</td>\n",
       "      <td>85.0</td>\n",
       "      <td>50.0</td>\n",
       "      <td>295000.0</td>\n",
       "      <td>USD</td>\n",
       "      <td>COSTA RICA 5800 / PALERMO HOLLYWOOD / VENTA PH...</td>\n",
       "      <td>HERMOSO PH EN PALERMO!!!2 AMBIENTES TOTALMENTE...</td>\n",
       "      <td>PH</td>\n",
       "      <td>Venta</td>\n",
       "    </tr>\n",
       "    <tr>\n",
       "      <th>4</th>\n",
       "      <td>2019-10-17</td>\n",
       "      <td>2020-03-11</td>\n",
       "      <td>1</td>\n",
       "      <td>2019-10-17</td>\n",
       "      <td>-34.914194</td>\n",
       "      <td>-57.938219</td>\n",
       "      <td>Argentina</td>\n",
       "      <td>Bs.As. G.B.A. Zona Sur</td>\n",
       "      <td>La Plata</td>\n",
       "      <td>2.0</td>\n",
       "      <td>1.0</td>\n",
       "      <td>1.0</td>\n",
       "      <td>50.0</td>\n",
       "      <td>35.0</td>\n",
       "      <td>40000.0</td>\n",
       "      <td>USD</td>\n",
       "      <td>58 entre 1 y 2  Venta de departamento en ph.1 ...</td>\n",
       "      <td>58 entre 1 y 2  Venta de departamento en PH. P...</td>\n",
       "      <td>PH</td>\n",
       "      <td>Venta</td>\n",
       "    </tr>\n",
       "    <tr>\n",
       "      <th>...</th>\n",
       "      <td>...</td>\n",
       "      <td>...</td>\n",
       "      <td>...</td>\n",
       "      <td>...</td>\n",
       "      <td>...</td>\n",
       "      <td>...</td>\n",
       "      <td>...</td>\n",
       "      <td>...</td>\n",
       "      <td>...</td>\n",
       "      <td>...</td>\n",
       "      <td>...</td>\n",
       "      <td>...</td>\n",
       "      <td>...</td>\n",
       "      <td>...</td>\n",
       "      <td>...</td>\n",
       "      <td>...</td>\n",
       "      <td>...</td>\n",
       "      <td>...</td>\n",
       "      <td>...</td>\n",
       "      <td>...</td>\n",
       "    </tr>\n",
       "    <tr>\n",
       "      <th>146655</th>\n",
       "      <td>2019-07-31</td>\n",
       "      <td>2019-08-13</td>\n",
       "      <td>1</td>\n",
       "      <td>2019-07-31</td>\n",
       "      <td>-34.816348</td>\n",
       "      <td>-58.181963</td>\n",
       "      <td>Argentina</td>\n",
       "      <td>Bs.As. G.B.A. Zona Sur</td>\n",
       "      <td>Berazategui</td>\n",
       "      <td>2.0</td>\n",
       "      <td>1.0</td>\n",
       "      <td>1.0</td>\n",
       "      <td>54.0</td>\n",
       "      <td>48.0</td>\n",
       "      <td>165000.0</td>\n",
       "      <td>USD</td>\n",
       "      <td>Departamento en Venta en Barrio Privado Barran...</td>\n",
       "      <td>Departamento de 2 ambientesCocina con alacena ...</td>\n",
       "      <td>Departamento</td>\n",
       "      <td>Venta</td>\n",
       "    </tr>\n",
       "    <tr>\n",
       "      <th>146656</th>\n",
       "      <td>2019-07-31</td>\n",
       "      <td>2019-08-14</td>\n",
       "      <td>1</td>\n",
       "      <td>2019-07-31</td>\n",
       "      <td>-34.446459</td>\n",
       "      <td>-58.937810</td>\n",
       "      <td>Argentina</td>\n",
       "      <td>Bs.As. G.B.A. Zona Norte</td>\n",
       "      <td>Pilar</td>\n",
       "      <td>4.0</td>\n",
       "      <td>3.0</td>\n",
       "      <td>2.0</td>\n",
       "      <td>164.0</td>\n",
       "      <td>90.0</td>\n",
       "      <td>130000.0</td>\n",
       "      <td>USD</td>\n",
       "      <td>Venta departamentos tres dormitorios jardín co...</td>\n",
       "      <td>Muy buen duplex a estrenar en dos plantas más ...</td>\n",
       "      <td>Departamento</td>\n",
       "      <td>Venta</td>\n",
       "    </tr>\n",
       "    <tr>\n",
       "      <th>146657</th>\n",
       "      <td>2019-07-31</td>\n",
       "      <td>2019-08-14</td>\n",
       "      <td>1</td>\n",
       "      <td>2019-07-31</td>\n",
       "      <td>-34.444633</td>\n",
       "      <td>-58.981606</td>\n",
       "      <td>Argentina</td>\n",
       "      <td>Bs.As. G.B.A. Zona Norte</td>\n",
       "      <td>Pilar</td>\n",
       "      <td>1.0</td>\n",
       "      <td>1.0</td>\n",
       "      <td>1.0</td>\n",
       "      <td>50.0</td>\n",
       "      <td>35.0</td>\n",
       "      <td>73000.0</td>\n",
       "      <td>USD</td>\n",
       "      <td>Venta departamento de un ambiente Manzanares C...</td>\n",
       "      <td>En los Condominios de Campo Manzanares Chico, ...</td>\n",
       "      <td>Departamento</td>\n",
       "      <td>Venta</td>\n",
       "    </tr>\n",
       "    <tr>\n",
       "      <th>146658</th>\n",
       "      <td>2019-07-31</td>\n",
       "      <td>2019-08-14</td>\n",
       "      <td>1</td>\n",
       "      <td>2019-07-31</td>\n",
       "      <td>-34.444830</td>\n",
       "      <td>-58.981796</td>\n",
       "      <td>Argentina</td>\n",
       "      <td>Bs.As. G.B.A. Zona Norte</td>\n",
       "      <td>Pilar</td>\n",
       "      <td>2.0</td>\n",
       "      <td>1.0</td>\n",
       "      <td>1.0</td>\n",
       "      <td>38.0</td>\n",
       "      <td>38.0</td>\n",
       "      <td>68000.0</td>\n",
       "      <td>USD</td>\n",
       "      <td>Departamento en Venta. Manzanares chico.</td>\n",
       "      <td>Broker: Maria 11Departamento de dos ambientes ...</td>\n",
       "      <td>Departamento</td>\n",
       "      <td>Venta</td>\n",
       "    </tr>\n",
       "    <tr>\n",
       "      <th>146659</th>\n",
       "      <td>2019-07-31</td>\n",
       "      <td>2019-10-12</td>\n",
       "      <td>1</td>\n",
       "      <td>2019-07-31</td>\n",
       "      <td>-34.444760</td>\n",
       "      <td>-58.981885</td>\n",
       "      <td>Argentina</td>\n",
       "      <td>Bs.As. G.B.A. Zona Norte</td>\n",
       "      <td>Pilar</td>\n",
       "      <td>3.0</td>\n",
       "      <td>2.0</td>\n",
       "      <td>1.0</td>\n",
       "      <td>75.0</td>\n",
       "      <td>75.0</td>\n",
       "      <td>98000.0</td>\n",
       "      <td>USD</td>\n",
       "      <td>Departamento en venta en Manzanares Chico</td>\n",
       "      <td>Departamento en el Barrio Manzanares Chico , e...</td>\n",
       "      <td>Departamento</td>\n",
       "      <td>Venta</td>\n",
       "    </tr>\n",
       "  </tbody>\n",
       "</table>\n",
       "<p>146660 rows × 20 columns</p>\n",
       "</div>"
      ],
      "text/plain": [
       "        start_date    end_date  Count  created_on        lat        lon  \\\n",
       "0       2019-10-17  2019-12-23      1  2019-10-17 -34.605880 -58.384949   \n",
       "1       2019-10-17  2019-11-21      1  2019-10-17 -34.624056 -58.412110   \n",
       "2       2019-10-17  2019-11-01      1  2019-10-17 -34.593569 -58.427474   \n",
       "3       2019-10-17  2019-12-23      1  2019-10-17 -34.581294 -58.436754   \n",
       "4       2019-10-17  2020-03-11      1  2019-10-17 -34.914194 -57.938219   \n",
       "...            ...         ...    ...         ...        ...        ...   \n",
       "146655  2019-07-31  2019-08-13      1  2019-07-31 -34.816348 -58.181963   \n",
       "146656  2019-07-31  2019-08-14      1  2019-07-31 -34.446459 -58.937810   \n",
       "146657  2019-07-31  2019-08-14      1  2019-07-31 -34.444633 -58.981606   \n",
       "146658  2019-07-31  2019-08-14      1  2019-07-31 -34.444830 -58.981796   \n",
       "146659  2019-07-31  2019-10-12      1  2019-07-31 -34.444760 -58.981885   \n",
       "\n",
       "               l1                        l2             l3  rooms  bedrooms  \\\n",
       "0       Argentina           Capital Federal  San Cristobal    7.0       7.0   \n",
       "1       Argentina           Capital Federal          Boedo    2.0       1.0   \n",
       "2       Argentina           Capital Federal        Palermo    2.0       1.0   \n",
       "3       Argentina           Capital Federal        Palermo    2.0       1.0   \n",
       "4       Argentina    Bs.As. G.B.A. Zona Sur       La Plata    2.0       1.0   \n",
       "...           ...                       ...            ...    ...       ...   \n",
       "146655  Argentina    Bs.As. G.B.A. Zona Sur    Berazategui    2.0       1.0   \n",
       "146656  Argentina  Bs.As. G.B.A. Zona Norte          Pilar    4.0       3.0   \n",
       "146657  Argentina  Bs.As. G.B.A. Zona Norte          Pilar    1.0       1.0   \n",
       "146658  Argentina  Bs.As. G.B.A. Zona Norte          Pilar    2.0       1.0   \n",
       "146659  Argentina  Bs.As. G.B.A. Zona Norte          Pilar    3.0       2.0   \n",
       "\n",
       "        bathrooms  surface_total  surface_covered     price currency  \\\n",
       "0             2.0          140.0            140.0  153000.0      USD   \n",
       "1             2.0           70.0             58.0  159000.0      USD   \n",
       "2             1.0           45.0             45.0  125000.0      USD   \n",
       "3             1.0           85.0             50.0  295000.0      USD   \n",
       "4             1.0           50.0             35.0   40000.0      USD   \n",
       "...           ...            ...              ...       ...      ...   \n",
       "146655        1.0           54.0             48.0  165000.0      USD   \n",
       "146656        2.0          164.0             90.0  130000.0      USD   \n",
       "146657        1.0           50.0             35.0   73000.0      USD   \n",
       "146658        1.0           38.0             38.0   68000.0      USD   \n",
       "146659        1.0           75.0             75.0   98000.0      USD   \n",
       "\n",
       "                                                    title  \\\n",
       "0             ***Venta semipiso centro, ideal hostel*****   \n",
       "1        Espectacular PH reciclado en Boedo sin expensas.   \n",
       "2       Depto.tipo casa de 2 ambientes en Venta en Pal...   \n",
       "3       COSTA RICA 5800 / PALERMO HOLLYWOOD / VENTA PH...   \n",
       "4       58 entre 1 y 2  Venta de departamento en ph.1 ...   \n",
       "...                                                   ...   \n",
       "146655  Departamento en Venta en Barrio Privado Barran...   \n",
       "146656  Venta departamentos tres dormitorios jardín co...   \n",
       "146657  Venta departamento de un ambiente Manzanares C...   \n",
       "146658           Departamento en Venta. Manzanares chico.   \n",
       "146659          Departamento en venta en Manzanares Chico   \n",
       "\n",
       "                                              description property_type  \\\n",
       "0       DESCRIPCION DE LA PROPIEDAD: Departamento de 1...  Departamento   \n",
       "1        PH reciclado en Boedo a una cuadra de la plaz...            PH   \n",
       "2       2 ambienets amplio , excelente estado , patio ...            PH   \n",
       "3       HERMOSO PH EN PALERMO!!!2 AMBIENTES TOTALMENTE...            PH   \n",
       "4       58 entre 1 y 2  Venta de departamento en PH. P...            PH   \n",
       "...                                                   ...           ...   \n",
       "146655  Departamento de 2 ambientesCocina con alacena ...  Departamento   \n",
       "146656  Muy buen duplex a estrenar en dos plantas más ...  Departamento   \n",
       "146657  En los Condominios de Campo Manzanares Chico, ...  Departamento   \n",
       "146658  Broker: Maria 11Departamento de dos ambientes ...  Departamento   \n",
       "146659  Departamento en el Barrio Manzanares Chico , e...  Departamento   \n",
       "\n",
       "       operation_type  \n",
       "0               Venta  \n",
       "1               Venta  \n",
       "2               Venta  \n",
       "3               Venta  \n",
       "4               Venta  \n",
       "...               ...  \n",
       "146655          Venta  \n",
       "146656          Venta  \n",
       "146657          Venta  \n",
       "146658          Venta  \n",
       "146659          Venta  \n",
       "\n",
       "[146660 rows x 20 columns]"
      ]
     },
     "execution_count": 10,
     "metadata": {},
     "output_type": "execute_result"
    }
   ],
   "source": [
    "df = pd.read_csv(\"DS_Proyecto_01_Datos_Properati.csv\",sep=',') #carga del dataset junto con sus cinco primeras instancias\n",
    "datapd = pd.DataFrame(df)\n",
    "df.insert(2, \"Count\", 1, True)\n",
    "datapd"
   ]
  },
  {
   "cell_type": "code",
   "execution_count": 11,
   "metadata": {},
   "outputs": [
    {
     "data": {
      "text/plain": [
       "(146660, 20)"
      ]
     },
     "execution_count": 11,
     "metadata": {},
     "output_type": "execute_result"
    }
   ],
   "source": [
    "datapd.shape #Cantidad de Filas x Columnas"
   ]
  },
  {
   "cell_type": "markdown",
   "metadata": {
    "id": "BJ-XiUsvC4Oh"
   },
   "source": [
    "2. **Valores Faltantes**: imprime en pantalla los nombres de las columnas y cuántos valores faltantes hay por columna."
   ]
  },
  {
   "cell_type": "code",
   "execution_count": 12,
   "metadata": {
    "id": "1QletBbgC4Oi"
   },
   "outputs": [
    {
     "data": {
      "text/plain": [
       "start_date          object\n",
       "end_date            object\n",
       "Count                int64\n",
       "created_on          object\n",
       "lat                float64\n",
       "lon                float64\n",
       "l1                  object\n",
       "l2                  object\n",
       "l3                  object\n",
       "rooms              float64\n",
       "bedrooms           float64\n",
       "bathrooms          float64\n",
       "surface_total      float64\n",
       "surface_covered    float64\n",
       "price              float64\n",
       "currency            object\n",
       "title               object\n",
       "description         object\n",
       "property_type       object\n",
       "operation_type      object\n",
       "dtype: object"
      ]
     },
     "execution_count": 12,
     "metadata": {},
     "output_type": "execute_result"
    }
   ],
   "source": [
    "datapd.dtypes #nombre de las columnas con sus tipos de datos"
   ]
  },
  {
   "cell_type": "code",
   "execution_count": 13,
   "metadata": {},
   "outputs": [
    {
     "data": {
      "text/plain": [
       "start_date         146660\n",
       "end_date           146660\n",
       "Count              146660\n",
       "created_on         146660\n",
       "lat                136735\n",
       "lon                136701\n",
       "l1                 146660\n",
       "l2                 146660\n",
       "l3                 146660\n",
       "rooms              146660\n",
       "bedrooms           146660\n",
       "bathrooms          140703\n",
       "surface_total      126133\n",
       "surface_covered    125046\n",
       "price              146660\n",
       "currency           146660\n",
       "title              146660\n",
       "description        146660\n",
       "property_type      146660\n",
       "operation_type     146660\n",
       "dtype: int64"
      ]
     },
     "execution_count": 13,
     "metadata": {},
     "output_type": "execute_result"
    }
   ],
   "source": [
    "datapd.count() #Cantidad de registros por atributo"
   ]
  },
  {
   "cell_type": "code",
   "execution_count": 14,
   "metadata": {},
   "outputs": [
    {
     "name": "stdout",
     "output_type": "stream",
     "text": [
      "start_date             0\n",
      "end_date               0\n",
      "Count                  0\n",
      "created_on             0\n",
      "lat                -9925\n",
      "lon                -9959\n",
      "l1                     0\n",
      "l2                     0\n",
      "l3                     0\n",
      "rooms                  0\n",
      "bedrooms               0\n",
      "bathrooms          -5957\n",
      "surface_total     -20527\n",
      "surface_covered   -21614\n",
      "price                  0\n",
      "currency               0\n",
      "title                  0\n",
      "description            0\n",
      "property_type          0\n",
      "operation_type         0\n",
      "dtype: int64\n"
     ]
    }
   ],
   "source": [
    "faltantes = datapd.count() - 146660\n",
    "print(faltantes) #valores faltantes por columna"
   ]
  },
  {
   "cell_type": "markdown",
   "metadata": {
    "id": "fzDXC875C4Oo"
   },
   "source": [
    "3. **Tipos de propiedad**: ¿Cuántos tipos de propiedad hay publicados según este dataset?¿Cuántos instancias por cada tipo de propiedad hay en el dataset? Responde esta pregunta usando las funcionalidad de Pandas y con un gráfico apropiado de Seaborn. **Pistas**: Te puede ser útil googlear cómo rotar las etiquetas del eje x."
   ]
  },
  {
   "cell_type": "code",
   "execution_count": 15,
   "metadata": {},
   "outputs": [
    {
     "name": "stdout",
     "output_type": "stream",
     "text": [
      "Hay 10 tipos de propiedad y Instancias\n"
     ]
    },
    {
     "data": {
      "text/plain": [
       "Departamento       107326\n",
       "Casa                21521\n",
       "PH                  14298\n",
       "Lote                 1312\n",
       "Oficina               658\n",
       "Otro                  374\n",
       "Local comercial       325\n",
       "Casa de campo         322\n",
       "Depósito              265\n",
       "Cochera               259\n",
       "Name: property_type, dtype: int64"
      ]
     },
     "execution_count": 15,
     "metadata": {},
     "output_type": "execute_result"
    }
   ],
   "source": [
    "print('Hay 10 tipos de propiedad', 'y Instancias')\n",
    "pd.value_counts(datapd['property_type']) #tipos de propiedad en el dataset\n"
   ]
  },
  {
   "cell_type": "code",
   "execution_count": 54,
   "metadata": {
    "id": "KvVxaqPlC4Oq"
   },
   "outputs": [
    {
     "data": {
      "text/plain": [
       "<AxesSubplot:xlabel='count', ylabel='property_type'>"
      ]
     },
     "execution_count": 54,
     "metadata": {},
     "output_type": "execute_result"
    },
    {
     "data": {
      "image/png": "[encoded data removed]",
      "text/plain": [
       "<Figure size 1296x360 with 1 Axes>"
      ]
     },
     "metadata": {},
     "output_type": "display_data"
    }
   ],
   "source": [
    "plt.figure(figsize=(18,5))\n",
    "plt.xlim(0,108000)\n",
    "sns.countplot(data = datapd, y = \"property_type\", palette=\"summer\") #Comparativa entre las cantidades de propiedades segun su tipo\n"
   ]
  },
  {
   "cell_type": "markdown",
   "metadata": {
    "id": "zmHRGis7C4Ow"
   },
   "source": [
    "4. ¿De qué regiones son las publicaciones? Haz gráficos de barras para las variables `l2` y `l3`. Si te animas, puedes hacer los dos gráficos usando `subplot` de Matplotlib. Dale un tamaño apropiado a la figura para que ambos gráficos se visualicen correctamente."
   ]
  },
  {
   "cell_type": "code",
   "execution_count": 50,
   "metadata": {
    "id": "JvrB-EaoC4Ox",
    "scrolled": true
   },
   "outputs": [
    {
     "data": {
      "image/png": "[encoded data removed]",
      "text/plain": [
       "<Figure size 2880x360 with 1 Axes>"
      ]
     },
     "metadata": {},
     "output_type": "display_data"
    }
   ],
   "source": [
    "plt.figure(figsize=(40,5))\n",
    "plt.subplot(1,2,1)\n",
    "sns.countplot(data = datapd, y = 'l2')\n",
    "plt.grid()\n",
    "plt.show()"
   ]
  },
  {
   "cell_type": "code",
   "execution_count": 56,
   "metadata": {},
   "outputs": [
    {
     "data": {
      "image/png": "[encoded data removed]",
      "text/plain": [
       "<Figure size 2880x360 with 1 Axes>"
      ]
     },
     "metadata": {},
     "output_type": "display_data"
    }
   ],
   "source": [
    "plt.figure(figsize=(40,5))\n",
    "plt.subplot(1,2,2)\n",
    "sns.countplot(data = datapd, y = 'l3')\n",
    "plt.grid()\n",
    "plt.show()"
   ]
  },
  {
   "cell_type": "markdown",
   "metadata": {
    "id": "XJCDt8ctC4O3"
   },
   "source": [
    "5. **Filtrando el Dataset:** A partir de los resultados del punto 3. y 4., selecciona las tres clases más abundantes de tipos de propiedad y la región con más propiedades publicadas. Crea un nuevo Data Frame con aquellas instancias que cumplen con esas condiciones e imprime su `shape`."
   ]
  },
  {
   "cell_type": "code",
   "execution_count": 58,
   "metadata": {
    "id": "vbmACahUC4O6"
   },
   "outputs": [
    {
     "data": {
      "text/plain": [
       "(91485, 20)"
      ]
     },
     "execution_count": 58,
     "metadata": {},
     "output_type": "execute_result"
    }
   ],
   "source": [
    "ds = df[df.property_type.isin([ 'Departamento', 'Casa' , 'PH']) & df.l2.isin(['Capital Federal'])]\n",
    "ds.shape\n"
   ]
  },
  {
   "cell_type": "markdown",
   "metadata": {
    "id": "bXSMm-aOC4O-"
   },
   "source": [
    "**Checkpoint:** deberías tener un dataset con 91485 instacias, 19 columnas.\n",
    "\n",
    "6. **Distribuciones y relaciones de a pares:** Estudia la distribución y las relaciones de a pares de las variables `rooms`, `bedrooms`, `bathrooms`, `surface_total`, `surface_covered`, `price` para cada tipo de propiedad. Para ello, ten en cuenta:\n",
    "    1. Obtiene estadísticos que te sirvan para tener una primera idea de los valores que abarcan estas variables. ¿Cuáles crees que toman valores que tal vez no tengan mucho sentido?\n",
    "    1. Algunas instancias tienen valores de superficie (`surface_total`) muy grandes y dificultan la correcta visualización. Estudia la distribución de esa variable y filtra por un valor razonable que te permita obtener gráficos comprensibles. Puede ser útil un boxplot para determinar un rango razonable.\n",
    "    1. Lo mismo ocurre con valores de superficie total muy chico.\n",
    "    1. Las propiedades no pueden tener `surface_covered` mayor a `surface_total`. Si eso sucede, debes filtrar esas instancias.\n",
    "    1. El rango de precios que toman las propiedades es muy amplio. Estudia la distribución de esa variable y filtra por un valor razonable que te permita obtener gráficos comprensibles. Puede ser útil un boxplot para determinar un rango razonable.\n",
    "    1. Una vez filtrado el dataset, puedes utilizar la función `pairplot` de Seaborn."
   ]
  },
  {
   "cell_type": "code",
   "execution_count": 59,
   "metadata": {
    "id": "jDQy8tzfC4PA"
   },
   "outputs": [
    {
     "ename": "ValueError",
     "evalue": "Need to specify at least one of 'labels', 'index' or 'columns'",
     "output_type": "error",
     "traceback": [
      "\u001b[1;31m---------------------------------------------------------------------------\u001b[0m",
      "\u001b[1;31mValueError\u001b[0m                                Traceback (most recent call last)",
      "\u001b[1;32m<ipython-input-59-f6fc515b3465>\u001b[0m in \u001b[0;36m<module>\u001b[1;34m\u001b[0m\n\u001b[1;32m----> 1\u001b[1;33m \u001b[0mds\u001b[0m\u001b[1;33m.\u001b[0m\u001b[0mdrop\u001b[0m\u001b[1;33m(\u001b[0m\u001b[1;33m)\u001b[0m\u001b[1;33m.\u001b[0m\u001b[0mhead\u001b[0m\u001b[1;33m(\u001b[0m\u001b[1;33m)\u001b[0m\u001b[1;33m\u001b[0m\u001b[1;33m\u001b[0m\u001b[0m\n\u001b[0m",
      "\u001b[1;32mC:\\ProgramData\\Anaconda3\\lib\\site-packages\\pandas\\core\\frame.py\u001b[0m in \u001b[0;36mdrop\u001b[1;34m(self, labels, axis, index, columns, level, inplace, errors)\u001b[0m\n\u001b[0;32m   4161\u001b[0m                 \u001b[0mweight\u001b[0m  \u001b[1;36m1.0\u001b[0m     \u001b[1;36m0.8\u001b[0m\u001b[1;33m\u001b[0m\u001b[1;33m\u001b[0m\u001b[0m\n\u001b[0;32m   4162\u001b[0m         \"\"\"\n\u001b[1;32m-> 4163\u001b[1;33m         return super().drop(\n\u001b[0m\u001b[0;32m   4164\u001b[0m             \u001b[0mlabels\u001b[0m\u001b[1;33m=\u001b[0m\u001b[0mlabels\u001b[0m\u001b[1;33m,\u001b[0m\u001b[1;33m\u001b[0m\u001b[1;33m\u001b[0m\u001b[0m\n\u001b[0;32m   4165\u001b[0m             \u001b[0maxis\u001b[0m\u001b[1;33m=\u001b[0m\u001b[0maxis\u001b[0m\u001b[1;33m,\u001b[0m\u001b[1;33m\u001b[0m\u001b[1;33m\u001b[0m\u001b[0m\n",
      "\u001b[1;32mC:\\ProgramData\\Anaconda3\\lib\\site-packages\\pandas\\core\\generic.py\u001b[0m in \u001b[0;36mdrop\u001b[1;34m(self, labels, axis, index, columns, level, inplace, errors)\u001b[0m\n\u001b[0;32m   3877\u001b[0m             \u001b[0maxes\u001b[0m\u001b[1;33m,\u001b[0m \u001b[0m_\u001b[0m \u001b[1;33m=\u001b[0m \u001b[0mself\u001b[0m\u001b[1;33m.\u001b[0m\u001b[0m_construct_axes_from_arguments\u001b[0m\u001b[1;33m(\u001b[0m\u001b[1;33m(\u001b[0m\u001b[0mindex\u001b[0m\u001b[1;33m,\u001b[0m \u001b[0mcolumns\u001b[0m\u001b[1;33m)\u001b[0m\u001b[1;33m,\u001b[0m \u001b[1;33m{\u001b[0m\u001b[1;33m}\u001b[0m\u001b[1;33m)\u001b[0m\u001b[1;33m\u001b[0m\u001b[1;33m\u001b[0m\u001b[0m\n\u001b[0;32m   3878\u001b[0m         \u001b[1;32melse\u001b[0m\u001b[1;33m:\u001b[0m\u001b[1;33m\u001b[0m\u001b[1;33m\u001b[0m\u001b[0m\n\u001b[1;32m-> 3879\u001b[1;33m             raise ValueError(\n\u001b[0m\u001b[0;32m   3880\u001b[0m                 \u001b[1;34m\"Need to specify at least one of 'labels', 'index' or 'columns'\"\u001b[0m\u001b[1;33m\u001b[0m\u001b[1;33m\u001b[0m\u001b[0m\n\u001b[0;32m   3881\u001b[0m             )\n",
      "\u001b[1;31mValueError\u001b[0m: Need to specify at least one of 'labels', 'index' or 'columns'"
     ]
    }
   ],
   "source": [
    "ds.drop().head()"
   ]
  },
  {
   "cell_type": "markdown",
   "metadata": {
    "id": "B2EMvGFoC4PF"
   },
   "source": [
    "7. **Correlaciones:** Estudia la correlación entre las variables `rooms`, `bedrooms`, `bathrooms`, `surface_total`, `surface_covered`, `price`. ¿Cuáles son las mejores variables para predecir el precio?¿Qué diferencias encuentras según cada tipo de propiedad?"
   ]
  },
  {
   "cell_type": "code",
   "execution_count": null,
   "metadata": {
    "id": "4DJ-aGD-C4PG"
   },
   "outputs": [],
   "source": [
    "columns = "
   ]
  },
  {
   "cell_type": "markdown",
   "metadata": {
    "id": "AUBaOrNYC4PK"
   },
   "source": [
    "### 2.1 Desafío\n",
    "\n",
    "En el dataset provisto hay mucha información, más allá del problema planteado. Propone una pregunta que pueda ser respondida por el dataset e intenta responderla.¿Cuáles son los sesgos de la respuesta obtenida?(¿Cuán generalizable es la respuesta obtenida?)¿Necesitas información complementaria?¿Cómo la obtendrías?\n",
    "\n",
    "Por ejemplo: ¿Cuál es el barrio más caro de Buenos Aires? Probablemente puedas responder esta pregunta con este dataset. Pero podria ocurrir que la respuesta esté sesgada. ¿Cómo? Tal vez las propiedades más caras no se publican de forma online, sino que utilizan otro canal de venta.\n"
   ]
  },
  {
   "cell_type": "code",
   "execution_count": null,
   "metadata": {
    "id": "CJ_DINqMC4PM"
   },
   "outputs": [],
   "source": [
    "# COMPLETAR - AGREGAR TANTAS CELDAS COMO SEA NECESARIO"
   ]
  },
  {
   "cell_type": "markdown",
   "metadata": {
    "id": "ULhoMAo_C4PP"
   },
   "source": [
    "### 3. Machine Learning\n",
    "\n",
    "En esta sección, debes entrenar dos modelos de Machine Learning - uno de vecinos más cercanos y otro de árboles de decisión -  para predecir el precio de las propiedades tipo `Departamento`, `PH` y `Casa`  en la Ciudad Autónoma de Buenos Aires (`Capital Federal`). Para ello, no debes olvidarte de:\n",
    "\n",
    "* Elegir una métrica apropiada para evaluar los resultados de los modelos.\n",
    "* Seleccionar las variables predictoras (`X`) y la variable a predecir (`y`). \n",
    "* Realizar un Train/Test split de los datos.\n",
    "* Generar un modelo *benchmark* y evaluarlo.\n",
    "* Entrenar un modelo de vecinos más cercanos y un modelo de árbol de decisión con hiperparámetros iniciales de su elección.\n",
    "* Evaluar los modelos obtenidos. Para ello, evalúa la métrica elegida en el conjunto de Test y en el conjunto de Train. También, realiza gráficos de valores reales vs. valores predichos.\n",
    "* Mejorar el desempeño de sus modelos optimizando el número de vecinos y la profundidad del árbol, respectivamente.\n",
    "* Entre los modelos entrenados, ¿cuál elegirías para utilizar?¿Por qué? \n",
    "* Ser **crítico/a** con la metodología utilizada. Por ejemplo, responde las siguientes preguntas: ¿Qué información no estás usando que podría ayudar al modelo?¿Qué información puede estar demás o repetida?\n",
    "\n",
    "Estos lineamientos corresponden al **mínimo entregable** de esta sección.\n",
    "\n",
    "\n",
    "**Importante:** para asegurarnos que trabajes con un dataset apropiados, debes volver a cargar los datos y realizar el siguiente filtrado:\n",
    "\n",
    "1. Selecciona aquellas propiedades en Capital Federal y cuyo tipo de propiedad es Departamento, PH o Casa.\n",
    "1. Selecciona aquellas propiedades cuya superficie total es menor a 1000 m2 y mayor a 15 m2.\n",
    "1. Selecciona aquellas propiedades cuya precio es menor 4000000 dólares.\n",
    "1. Selecciona las columnas `rooms`, `bedrooms`, `bathrooms`, `surface_total`, `surface_covered` y `price`.\n",
    "1. Descarta aquellas instacias con valores faltantes.\n",
    "\n",
    "**Checkpoint:** deberías obtener un dataset con 81019 instacias y 6 columnas."
   ]
  },
  {
   "cell_type": "code",
   "execution_count": null,
   "metadata": {
    "id": "QSqa1vJQC4PR"
   },
   "outputs": [],
   "source": [
    "# COMPLETAR - AGREGAR TANTAS CELDAS COMO SEA NECESARIO"
   ]
  }
 ],
 "metadata": {
  "colab": {
   "collapsed_sections": [],
   "name": "DS_Proyecto_01.ipynb",
   "provenance": []
  },
  "kernelspec": {
   "display_name": "Python 3",
   "language": "python",
   "name": "python3"
  },
  "language_info": {
   "codemirror_mode": {
    "name": "ipython",
    "version": 3
   },
   "file_extension": ".py",
   "mimetype": "text/x-python",
   "name": "python",
   "nbconvert_exporter": "python",
   "pygments_lexer": "ipython3",
   "version": "3.8.5"
  }
 },
 "nbformat": 4,
 "nbformat_minor": 1
}
